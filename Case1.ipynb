{
  "cells": [
    {
      "cell_type": "markdown",
      "metadata": {
        "id": "view-in-github",
        "colab_type": "text"
      },
      "source": [
        "<a href=\"https://colab.research.google.com/github/Mgehrig2/AGEC-701-Case-1-Project/blob/main/Case1.ipynb\" target=\"_parent\"><img src=\"https://colab.research.google.com/assets/colab-badge.svg\" alt=\"Open In Colab\"/></a>"
      ]
    },
    {
      "cell_type": "code",
      "source": [
        "import pandas as pd\n",
        "\n",
        "# Load Delivery and Drivers data from Excel files\n",
        "delivery_data = pd.read_excel(\"Delivery(1).xlsx\")\n",
        "drivers_data = pd.read_excel(\"Drivers(1).xlsx\")\n",
        "\n",
        "# Step 1: Convert the date and time columns to datetime format for calculation\n",
        "# Combine 'Order Date' with 'Expected Delivery By' and 'Actual Delivery Time' to create full datetime fields\n",
        "delivery_data['Order Date'] = pd.to_datetime(delivery_data['Order Date'])\n",
        "delivery_data['Expected Delivery By'] = pd.to_datetime(\n",
        "    delivery_data['Order Date'].astype(str) + ' ' + delivery_data['Expected Delivery By'].astype(str)\n",
        ")\n",
        "delivery_data['Actual Delivery Time'] = pd.to_datetime(\n",
        "    delivery_data['Order Date'].astype(str) + ' ' + delivery_data['Actual Delivery Time'].astype(str)\n",
        ")\n",
        "\n",
        "# Step 2: Calculate delivery delay in minutes\n",
        "delivery_data['Delivery Delay (mins)'] = (delivery_data['Actual Delivery Time'] - delivery_data['Expected Delivery By']).dt.total_seconds() / 60\n",
        "\n",
        "# Step 3: Calculate the average delay per driver\n",
        "driver_delay_summary = delivery_data.groupby('Driver ID')['Delivery Delay (mins)'].mean().reset_index()\n",
        "driver_delay_summary.columns = ['Driver ID', 'Average Delay (mins)']\n",
        "\n",
        "# Step 4: Merge the driver names from drivers_data into the delay summary\n",
        "driver_performance = pd.merge(driver_delay_summary, drivers_data, left_on='Driver ID', right_on='ID').drop(columns='ID')\n",
        "\n",
        "# Step 5: Export to Excel with separate sheets for processed delivery data and summary data\n",
        "output_path = \"DeliveryAnalysis_Excel_Solution.xlsx\"\n",
        "with pd.ExcelWriter(output_path) as writer:\n",
        "    delivery_data.to_excel(writer, sheet_name='Processed Delivery Data', index=False)\n",
        "    driver_performance.to_excel(writer, sheet_name='Driver Performance Summary', index=False)\n",
        "\n",
        "print(\"Analysis complete. Results saved to:\", output_path)\n"
      ],
      "metadata": {
        "colab": {
          "base_uri": "https://localhost:8080/"
        },
        "id": "mcqPddkYS7e0",
        "outputId": "f0d8f1e4-bb91-48c7-9e05-1ef1f2da642b"
      },
      "execution_count": 3,
      "outputs": [
        {
          "output_type": "stream",
          "name": "stdout",
          "text": [
            "Analysis complete. Results saved to: DeliveryAnalysis_Excel_Solution.xlsx\n"
          ]
        }
      ]
    },
    {
      "cell_type": "code",
      "source": [
        "import pandas as pd\n",
        "\n",
        "# Load Delivery and Drivers data from Excel files\n",
        "delivery_data = pd.read_excel(\"Delivery(1).xlsx\")\n",
        "drivers_data = pd.read_excel(\"Drivers(1).xlsx\")\n",
        "\n",
        "# Convert 'Order Date' and Time Columns to Datetime\n",
        "delivery_data['Order Date'] = pd.to_datetime(delivery_data['Order Date'])\n",
        "delivery_data['Expected Delivery By'] = pd.to_datetime(\n",
        "    delivery_data['Order Date'].astype(str) + ' ' + delivery_data['Expected Delivery By'].astype(str)\n",
        ")\n",
        "delivery_data['Actual Delivery Time'] = pd.to_datetime(\n",
        "    delivery_data['Order Date'].astype(str) + ' ' + delivery_data['Actual Delivery Time'].astype(str)\n",
        ")\n",
        "\n",
        "# Calculate Delivery Delay (mins) and Count Late Deliveries\n",
        "delivery_data['Delivery Delay (mins)'] = (delivery_data['Actual Delivery Time'] - delivery_data['Expected Delivery By']).dt.total_seconds() / 60\n",
        "delivery_data['Is Late'] = delivery_data['Delivery Delay (mins)'] > 0  # True if delay is positive\n",
        "\n",
        "# Calculate Average Delay and Number of Late Deliveries per Driver\n",
        "# Group by Driver ID and calculate average delay and count of late deliveries\n",
        "driver_delay_summary = delivery_data.groupby('Driver ID').agg(\n",
        "    Average_Delay_Mins=('Delivery Delay (mins)', 'mean'),\n",
        "    Times_Late=('Is Late', 'sum')\n",
        ").reset_index()\n",
        "\n",
        "# Merge with Driver Information to Include Name\n",
        "driver_performance = pd.merge(driver_delay_summary, drivers_data, left_on='Driver ID', right_on='ID').drop(columns='ID')\n",
        "driver_performance = driver_performance[['Driver ID', 'First Name', 'Last Name', 'Average_Delay_Mins', 'Times_Late']]\n",
        "\n",
        "# Export Results to Excel\n",
        "output_path = \"AGEC_701_Google_Colab_Results.xlsx\"\n",
        "with pd.ExcelWriter(output_path) as writer:\n",
        "    delivery_data.to_excel(writer, sheet_name='Processed Delivery Data', index=False)\n",
        "    driver_performance.to_excel(writer, sheet_name='Driver Performance Summary', index=False)\n",
        "\n",
        "print(\"Analysis complete. Results saved to:\", output_path)\n"
      ],
      "metadata": {
        "colab": {
          "base_uri": "https://localhost:8080/"
        },
        "id": "mntuc7z0S-Ic",
        "outputId": "62d9cec9-18b9-442a-e0fd-0976c8a43bea"
      },
      "execution_count": 5,
      "outputs": [
        {
          "output_type": "stream",
          "name": "stdout",
          "text": [
            "Analysis complete. Results saved to: AGEC_701_Google_Colab_Results.xlsx\n"
          ]
        }
      ]
    }
  ],
  "metadata": {
    "colab": {
      "name": "Welcome To Colab",
      "provenance": [],
      "include_colab_link": true
    },
    "kernelspec": {
      "display_name": "Python 3",
      "name": "python3"
    }
  },
  "nbformat": 4,
  "nbformat_minor": 0
}